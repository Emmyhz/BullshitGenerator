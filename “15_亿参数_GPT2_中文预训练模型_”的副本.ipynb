{
  "nbformat": 4,
  "nbformat_minor": 0,
  "metadata": {
    "colab": {
      "name": "“15 亿参数 GPT2 中文预训练模型  ”的副本",
      "provenance": [],
      "collapsed_sections": [],
      "toc_visible": true,
      "include_colab_link": true
    },
    "kernelspec": {
      "name": "python3",
      "display_name": "Python 3"
    },
    "accelerator": "GPU"
  },
  "cells": [
    {
      "cell_type": "markdown",
      "metadata": {
        "id": "view-in-github",
        "colab_type": "text"
      },
      "source": [
        "<a href=\"https://colab.research.google.com/github/Emmyhz/BullshitGenerator/blob/master/%E2%80%9C15_%E4%BA%BF%E5%8F%82%E6%95%B0_GPT2_%E4%B8%AD%E6%96%87%E9%A2%84%E8%AE%AD%E7%BB%83%E6%A8%A1%E5%9E%8B_%E2%80%9D%E7%9A%84%E5%89%AF%E6%9C%AC.ipynb\" target=\"_parent\"><img src=\"https://colab.research.google.com/assets/colab-badge.svg\" alt=\"Open In Colab\"/></a>"
      ]
    },
    {
      "cell_type": "markdown",
      "metadata": {
        "id": "E7pJ5ZzghVxt",
        "colab_type": "text"
      },
      "source": [
        "# Prerequisites"
      ]
    },
    {
      "cell_type": "code",
      "metadata": {
        "id": "lXo2nX5phVxv",
        "colab_type": "code",
        "outputId": "34aa5bfb-d44d-4128-e908-f13b935bd2f4",
        "colab": {
          "base_uri": "https://localhost:8080/",
          "height": 143
        }
      },
      "source": [
        "%tensorflow_version 1.x\n",
        "!git clone https://github.com/imcaspar/gpt2-ml\n",
        "%cd /content/gpt2-ml"
      ],
      "execution_count": 0,
      "outputs": [
        {
          "output_type": "stream",
          "text": [
            "Cloning into 'gpt2-ml'...\n",
            "remote: Enumerating objects: 99, done.\u001b[K\n",
            "remote: Counting objects: 100% (99/99), done.\u001b[K\n",
            "remote: Compressing objects: 100% (80/80), done.\u001b[K\n",
            "remote: Total 99 (delta 32), reused 67 (delta 14), pack-reused 0\u001b[K\n",
            "Unpacking objects: 100% (99/99), done.\n",
            "/content/gpt2-ml\n"
          ],
          "name": "stdout"
        }
      ]
    },
    {
      "cell_type": "markdown",
      "metadata": {
        "id": "HWqxYHVyhVxz",
        "colab_type": "text"
      },
      "source": [
        "# Download Pretrained Model"
      ]
    },
    {
      "cell_type": "code",
      "metadata": {
        "id": "yMuONUsShVxz",
        "colab_type": "code",
        "outputId": "e4e23781-ef1c-4a12-c44e-2c96543ff07c",
        "colab": {
          "base_uri": "https://localhost:8080/",
          "height": 71
        }
      },
      "source": [
        "import os\n",
        "import io\n",
        "\n",
        "from google.colab import auth\n",
        "from googleapiclient.discovery import build\n",
        "from apiclient.http import MediaIoBaseDownload\n",
        "from tqdm import tqdm\n",
        "\n",
        "auth.authenticate_user()\n",
        "drive_service = build('drive', 'v3')\n",
        "\n",
        "model_dir = '/content/gpt2-ml/models/mega'\n",
        "if not os.path.exists(model_dir): os.makedirs(model_dir)\n",
        "\n",
        "file_id, file_ext = ('1n_5-tgPpQ1gqbyLPbP1PwiFi2eo7SWw_', '.data-00000-of-00001')\n",
        "filename = '%s/model.ckpt-%d%s' % (model_dir, 100000, file_ext)\n",
        "req = drive_service.files().get_media(fileId=file_id)\n",
        "with open(filename, 'wb') as f:\n",
        "    downloader = MediaIoBaseDownload(f, req, chunksize=100*1024*1024)\n",
        "    done = False\n",
        "    pbar = tqdm(total=100, desc='%s' % filename)\n",
        "    progress = 0\n",
        "    while done is False:\n",
        "        status, done = downloader.next_chunk()\n",
        "        new_progress = int(status.progress() * 100)\n",
        "        pbar.update(new_progress - progress)\n",
        "        progress = new_progress\n",
        "    pbar.close()\n",
        "\n",
        "!wget -q --show-progress https://github.com/imcaspar/gpt2-ml/releases/download/v0.5/model.ckpt-100000.index -P models/mega\n",
        "!wget -q --show-progress https://github.com/imcaspar/gpt2-ml/releases/download/v0.5/model.ckpt-100000.meta -P models/mega"
      ],
      "execution_count": 0,
      "outputs": [
        {
          "output_type": "stream",
          "text": [
            "/content/gpt2-ml/models/mega/model.ckpt-100000.data-00000-of-00001: 100%|██████████| 100/100 [01:27<00:00,  1.03it/s]\n"
          ],
          "name": "stderr"
        },
        {
          "output_type": "stream",
          "text": [
            "model.ckpt-100000.i 100%[===================>]  25.59K  --.-KB/s    in 0.08s   \n",
            "model.ckpt-100000.m 100%[===================>]  17.62M  15.1MB/s    in 1.2s    \n"
          ],
          "name": "stdout"
        }
      ]
    },
    {
      "cell_type": "markdown",
      "metadata": {
        "id": "kg21cttVhVx1",
        "colab_type": "text"
      },
      "source": [
        "# Inference"
      ]
    },
    {
      "cell_type": "code",
      "metadata": {
        "id": "jk7I4cIQhVx2",
        "colab_type": "code",
        "outputId": "73801fe3-2a8e-4bee-f733-be3dd08ffbcd",
        "colab": {
          "base_uri": "https://localhost:8080/",
          "height": 1000
        }
      },
      "source": [
        "os.environ['TF_CPP_MIN_LOG_LEVEL'] = '2'\n",
        "!PYTHONPATH=$(pwd) python3 scripts/interactive_conditional_samples.py -model_config_fn configs/mega.json -model_ckpt models/mega/model.ckpt-100000 -samples 10"
      ],
      "execution_count": 0,
      "outputs": [
        {
          "output_type": "stream",
          "text": [
            "WARNING:tensorflow:From /content/gpt2-ml/train/optimization_adafactor.py:88: The name tf.train.Optimizer is deprecated. Please use tf.compat.v1.train.Optimizer instead.\n",
            "\n",
            "WARNING:tensorflow:From /content/gpt2-ml/tokenization/tokenization.py:125: The name tf.gfile.GFile is deprecated. Please use tf.io.gfile.GFile instead.\n",
            "\n",
            "\n",
            "~~\n",
            "batch size=1, max batch size=3, num chunks=1, batch size per chunk=1\n",
            "~~\n",
            "\n",
            "WARNING:tensorflow:From scripts/interactive_conditional_samples.py:135: The name tf.ConfigProto is deprecated. Please use tf.compat.v1.ConfigProto instead.\n",
            "\n",
            "WARNING:tensorflow:From scripts/interactive_conditional_samples.py:137: The name tf.Session is deprecated. Please use tf.compat.v1.Session instead.\n",
            "\n",
            "WARNING:tensorflow:From scripts/interactive_conditional_samples.py:138: The name tf.placeholder is deprecated. Please use tf.compat.v1.placeholder instead.\n",
            "\n",
            "WARNING:tensorflow:From /content/gpt2-ml/train/modeling.py:725: The name tf.AUTO_REUSE is deprecated. Please use tf.compat.v1.AUTO_REUSE instead.\n",
            "\n",
            "WARNING:tensorflow:From /content/gpt2-ml/train/modeling.py:490: The name tf.variable_scope is deprecated. Please use tf.compat.v1.variable_scope instead.\n",
            "\n",
            "WARNING:tensorflow:From /content/gpt2-ml/train/modeling.py:296: The name tf.get_variable is deprecated. Please use tf.compat.v1.get_variable instead.\n",
            "\n",
            "WARNING:tensorflow:From /content/gpt2-ml/train/modeling.py:302: The name tf.assert_less_equal is deprecated. Please use tf.compat.v1.assert_less_equal instead.\n",
            "\n",
            "WARNING:tensorflow:From /content/gpt2-ml/train/utils.py:125: The name tf.rsqrt is deprecated. Please use tf.math.rsqrt instead.\n",
            "\n",
            "WARNING:tensorflow:From /content/gpt2-ml/train/modeling.py:143: dense (from tensorflow.python.layers.core) is deprecated and will be removed in a future version.\n",
            "Instructions for updating:\n",
            "Use keras.layers.Dense instead.\n",
            "WARNING:tensorflow:From /usr/local/lib/python3.6/dist-packages/tensorflow_core/python/layers/core.py:187: Layer.apply (from tensorflow.python.keras.engine.base_layer) is deprecated and will be removed in a future version.\n",
            "Instructions for updating:\n",
            "Please use `layer.__call__` method instead.\n",
            "WARNING:tensorflow:From /content/gpt2-ml/train/utils.py:112: The name tf.erf is deprecated. Please use tf.math.erf instead.\n",
            "\n",
            "WARNING:tensorflow:From /usr/local/lib/python3.6/dist-packages/tensorflow_core/python/util/dispatch.py:180: batch_gather (from tensorflow.python.ops.array_ops) is deprecated and will be removed after 2017-10-25.\n",
            "Instructions for updating:\n",
            "`tf.batch_gather` is deprecated, please use `tf.gather` with `batch_dims=-1` instead.\n",
            "WARNING:tensorflow:From scripts/interactive_conditional_samples.py:145: The name tf.train.Saver is deprecated. Please use tf.compat.v1.train.Saver instead.\n",
            "\n",
            "Model loaded. Input something please:\n",
            "在一项研究中，科学家们发现了一群独角兽，它们生活在杭州市郊一个偏远的还没被开发的山谷中，更令人惊讶的是这些独角兽会说一口流利的中文。\n",
            "Sample, 1  of  10\n",
            "在一项研究中，科学家们发现了一群独角兽，它们生活在杭州市郊一个偏远的还没被开发的山谷中，更令人惊讶的是这些独角兽会说一口流利的中文。这次研究\n",
            "是由浙江大学生命科学学院徐象恒教授等人所进行的，徐象恒教授也是中科院院士，在加入中科院之前他就在中科院工作。研究显示，独角兽有自己的语言，学\n",
            "习能力也很强，并不怕人。它们喜欢在有光线的地方生活，也喜欢出去走走。独角兽不懂人类语言，它们除了和人类和动物之外都可以听懂，而且能够看懂很多\n",
            "动物的面孔。研究结果发表在nature（英文版）上，从发表之日起已经是一个很不错的研究课题了。你也许更喜欢和小编一样拿着手机就有视频学习了！\n",
            "！欢迎加入创客星球微信福利群！！！群号：53##83##63##33##2本群是创客星球的子公司，主要是为大家提供各种各样的创意设计以及各种\n",
            "活动宣传，帮助大家实现创意，形成品牌。微信公众号：创客星球网站：www.di##ng##z##he.com创客星球网站：www.di##ng\n",
            "##z##he.com微博：@创客星球网站点击下方阅读原文获取更多最新资讯！！！↓↓↓##↓##↓##↓##↓##↓##↓##↓##↓##↓\n",
            "##↓##↓##↓##↓##↓##↓##↓##↓##↓##↓##↓##↓##↓##↓##↓##↓##↓##↓##↓##↓##↓##↓##↓#\n",
            "#↓##↓##↓##↓##↓##↓##↓##↓##↓##↓##↓##↓##↓##↓##↓##↓##↓##↓##↓##↓##↓##↓##↓##\n",
            "↓##↓##↓##↓##↓##↓##↓##↓##↓##↓##↓##↓##↓##↓##↓##↓##↓##↓##↓##↓##↓##↓##↓##↓\n",
            "##↓##↓##↓##↓##↓##↓##↓##↓##↓##↓##↓##↓##↓##↓##↓##↓##↓##↓##↓##↓##↓##↓##↓#\n",
            "#↓##↓##↓##↓##↓##↓##↓##↓##↓##↓##↓##↓##↓##↓##↓##↓##↓##↓##↓##↓##↓##↓##↓##\n",
            "↓##↓##↓##↓创客星球｜创客星球｜创客星球｜创客星球｜创客星球官网｜##http://www.maker##sky.cn/合作联系：1\n",
            "885##71##84##73##2（qq）285##33##59##64##3（qq）285##33##59##64##3（qq）285#\n",
            "#33##59##64##3（qq）地址：杭州市拱墅区学院路32号1幢320室创客星球|创客星球｜创客星球｜创客星球官网｜##http://\n",
            "www.maker##sky.cn/合作联系：187##58##18##47##60（qq）285##33##59##64##3（qq）28\n",
            "5##33##59##64##3（qq）地址：杭州市拱墅区学院路32号1幢320室创客星球｜创客星球｜创客星球｜创客星球官网｜##http:\n",
            "//www.maker##sky.cn/合作联系：187##58##18##47##60（qq）285##33##59##64##3（qq）\n",
            "285##33##59##64##3（qq）地址：杭州市拱墅区学院路32号1幢320室创客星球｜创客星球｜创客星球｜创客星球官网｜##htt\n",
            "p://www.maker##sky.cn/合作联系：187##58##18##47##60（qq）285##33##59##64##3（q\n",
            "q）285##33##59##64##3（qq）地址：杭州市拱墅区学院路32号1幢320室创客星球｜创客星球｜创客星球｜创客星球｜创客星球官\n",
            "网｜##http://www.maker##sky.cn/合作联系：1880##58##99##58##9（qq）262##33##59##\n",
            "64##3（qq）295##33##59##64##3（qq）地址：杭州市拱墅区学院路32号1幢320室创客星球｜创客星球｜创客星球｜创客星\n",
            "球｜创客星球官网｜##http://www.maker##sky.cn/合作联系：131##57##19##39##36（qq）257##5\n",
            "6##60##73##0（qq\n",
            "Sample, 2  of  10\n",
            "在一项研究中，科学家们发现了一群独角兽，它们生活在杭州市郊一个偏远的还没被开发的山谷中，更令人惊讶的是这些独角兽会说一口流利的中文。据报道，\n",
            "这群独角兽也是一群自称只会说中文的蟑螂，它们居住在四周各一个洞穴中，在墙壁开口处呈横向延伸着据介绍，这群独角兽似乎已经在杭州居住了数年，对当\n",
            "地甚至是亚洲的生态习性都了如指掌。此前媒体曾报道说，大概是10年前的时候，科学家就已经发现独角兽是使用山洞或洞穴时说中文的。迄今为止，这组发\n",
            "现只为独角兽制作了2张照片，都是进入洞穴的门，最初人们认为只是像宠物一样，它们之间会说简单的中文，但后来发现这些门口只有偶尔显露出的一张图片\n",
            "，而洞穴一侧的地板上却留着不少洞穴洞口。此外，日本居民在道路两侧挂满了很多洞穴照片，但这些洞穴并不是地下洞穴，而是一处处狭小的居民设施。在各\n",
            "个洞穴区的挂画上标有中文文字。(川俊雄)来源：中国网编辑：袁媛媛杭州交通91.8综合编辑：袁媛媛、锦羽工作室素材来源：网络（版权归原作者所有\n",
            "，如有侵权请您告知。）点击阅读原文，报名参加10000##0+人的初冬交友大赛！喜欢这篇文章？那就把它分享给ta吧！发布平台：杭州交通91.\n",
            "8商务合作：170##58##120##55点击阅读原文获取最新参赛资格！觉得有用，猛戳下面大拇指吧！阅读原文阅读投诉阅读原文阅读精选留言加\n",
            "载中以上留言由公众号筛选后显示了解留言功能详情长按二维码可关注我们。说明：群主可以自行通过留言功能留言写作与出席活动。联系我们qq：8000\n",
            "##08##29##1|wei##xi##n：ch##ight##27##2|400##68##45##11##7阅读原文阅读投诉阅读原文阅\n",
            "读精选留言加载中以上留言由公众号筛选后显示了解留言功能详情长按二维码可关注我们。觉得觉得作者不错，请点赞↓↓↓，请留言↓↓↓##↓##↓##\n",
            "↓##↓##↓##↓##↓##↓##↓##↓##↓##↓阅读原文阅读投诉阅读原文阅读精选留言加载中以上留言由公众号筛选后显示了解留言功能详情\n",
            "长按二维码可关注我们。觉得觉得作者接受合作，请点击阅读原文阅读投诉阅读原文阅读精选留言加载中以上留言由公众号筛选后显示了解留言功能详情长按二\n",
            "维码可关注我们。觉得觉得作者接受，请点击独家披露阅读原文阅读精选留言加载中以上留言由公众号筛选后显示了解留言功能详情长按二维码可关注我们。觉\n",
            "得觉得作者接受，请点击独家披露阅读原文阅读投诉阅读原文阅读精选留言加载中以上留言由公众号筛选后显示了解留言功能详情长按二维码可关注我们。觉得\n",
            "觉得作者接受，请点击独家披露阅读原文阅读投诉阅读原文阅读精选留言加载中以上留言由公众号\n",
            "Sample, 3  of  10\n",
            "在一项研究中，科学家们发现了一群独角兽，它们生活在杭州市郊一个偏远的还没被开发的山谷中，更令人惊讶的是这些独角兽会说一口流利的中文。研究报告\n",
            "为何如此重要？研究员在法国的科研团队中进行了为期两周的探索，他们发现，一些独角兽几乎对任何外语都无感，两人都学会了如何说中文。一组研究小组打\n",
            "算用加速器来检测两名志愿者的授课时间和去向，一组则让他们想出了更简单的处理方法。现在他们已经把2-3种独角兽的栖息地改了，让他们学会了一句西\n",
            "班牙语。独角兽的视力或许比一般动物更强，和哺乳动物相比，它们没有领地意识，没有朋友的概念，甚至没有成人的智商，可以预测此种动物离开人类则非常\n",
            "危险。研究人员表示，设立这样的一个实验室很有必要，因为开发分析仪器能帮助专家制定出完整的研究路线。对于物种，大家已经学到了远古兽类的一些优点\n",
            "，比如很强的领地意识和话题优势。对这类动物来说，它们的领地意识非常强，当它们带来危险时，通常很容易制造麻烦。随着科学技术的进步，现在，物种学\n",
            "已经能让大家更直观地了解到物种之间相处的方式，提高研究水平。文|mandy徐景静，wi##sco##nco##o.把朋友与同伴联系起来的最好\n",
            "方式是让ta知道，朋友和同伴是灵性的，他们之间的关系最初是通过政治。约翰?肯尼迪，《英国保守党》副主编johnf.ken##ne##dy.科\n",
            "学界研究生毕业论文题目为be##tra##ya##lan##ima##lca##pr##ic##ious，研究领域为自然界，科学家们发现一只\n",
            "独角兽几乎对任何外语都无感，而对于一群众进行研究时，这个独角兽被选择的特征很让人意外。所以，科学家们开始思考，中国独角兽对我们究竟算不算是人\n",
            "类和生俱来的智慧结晶。、，，。汤姆?施华兹，《中国星际航行》副主编、ev##er##25，taylormo##er，《美国科学与人类》主编t\n",
            "omsim##m.与中国独角兽相比，中国独角兽的情感更加复杂，更有诗意。独角兽一般生活在山谷里，不进村，在日常生活中，它们习惯性地伪装自己，\n",
            "甚至还会变成动物。为了维持目的，独角兽们一般靠超强的嗅觉保持自己的清醒，对外，独角兽在交配时会调动自己的嗅觉。独角兽其中一个有趣的特征是，当\n",
            "它们生活在一个偏僻的山谷中时，因为交通不便，所以独角兽可以通过共同的搜索程序找到一个最终的房间，这正好和那些生活在很偏僻的山谷中的独角兽发生\n",
            "的事情相一致。。，，，，，，，独角兽与海豚的关系中，这个海洋有百慕大群岛，百慕大群岛有一个岛有许多独角兽，据经济学家们解释，这些独角兽是日常\n",
            "的蜗牛和鹰科动物，所以与人类关系要好。，，，，，，。除了在分析数据时，\n",
            "Sample, 4  of  10\n",
            "在一项研究中，科学家们发现了一群独角兽，它们生活在杭州市郊一个偏远的还没被开发的山谷中，更令人惊讶的是这些独角兽会说一口流利的中文。这群鸟的\n",
            "名字叫来福，由于这里经常会看到饿的满地找食的猫头鹰或老鹰，这里的居民对于这类独角兽的习性通常都知之甚少。研究人员进一步对这些鸟类进行研究，并\n",
            "帮助科学家们通过现有的研究成果来研究这些独角兽的语言。他们发现，独角兽在科学家们眼中并不是独角兽，而是中性的。来福最小的品种叫来福，它的独角\n",
            "兽头骨重达25千克，比非洲黑山蚁还要大。研究者们发现来福的眼睛被黑山蚁视为最接近人类的一种生物，而独角兽的头顶又像一朵盛开的菊花。随着研究的\n",
            "深入，研究者们发现来福的口语非常流利，与他们所发现的不同的是来福喜欢下山，而来福最喜欢的落脚点是在田野里。在森林的自然环境中，独角兽对人类很\n",
            "友好，因为只有来福的眼睛最接近人类，这也让研究者们对来福的口语发挥了影响。此次研究由来福属于的中国西北大学微型生物学博士生，中科院上海生命科\n",
            "学研究院国家生命科学基金委员会正式负责进行，也标志着该研究项目首个硕士生科研项目从选育来福开始开始着手打造独角兽国家基地，在西部自然保护区取\n",
            "得巨大成功。研究项目主要目的就是希望能提供中国南部亚非地区所发现的所有亚洲独角兽的相关数据，证明中国现存更多亚洲独角兽。项目组负责人、科学家\n",
            "马永发透露，研究成果将在今年年底出版，10月出版的目标是获得独角兽基金的资助。马永发表示，中国的生物学家们的勇气让我们如何称谓它们，希望这些\n",
            "独角兽能够延续下去，并在科学和技术领域得到更多的专业支持。想爆料？请登录《阳光连线》（http://min##sh##eng.iq##il#\n",
            "#u.com/）、拨打新闻热线05##31-816##95##000，或登录齐鲁网官方微博（@齐鲁网）提供新闻线索。齐鲁网广告热线05##3\n",
            "1-816##95##05##2，诚邀合作伙伴。齐鲁网广告热线05##31-816##95##05##2，诚邀合作伙伴。来源：齐鲁网首页：h\n",
            "ttp://min##sh##eng.iq##il##u.com/2016/102##2/46##49##1.html[责任编辑：赵英超]绚\n",
            "丽神奇独特的花朵文化2016杭州亚运会官方指定杂志点击下方阅读原文查看更多精彩内容。阅读原文阅读投诉阅读原文阅读精选留言加载中以上留言由公众\n",
            "号筛选后显示了解留言功能详情。赞赏人赞赏阅读原文阅读精选留言加载中以上留言由公众号筛选后显示了解留言功能详情赞赏人赞赏阅读原文阅读精选留言加\n",
            "载中以上留言由公众号筛选后显示了解留言功能详情赞赏人赞赏阅读原文阅读精选留言加载中以上留言由公众号筛选后显示了解留言功能详情赞赏人赞赏人赞赏\n",
            "Sample, 5  of  10\n",
            "在一项研究中，科学家们发现了一群独角兽，它们生活在杭州市郊一个偏远的还没被开发的山谷中，更令人惊讶的是这些独角兽会说一口流利的中文。这些独角\n",
            "兽的大脑是独立运作的，所以它们在通过修剪适当的肢体之后的第一瞬间，就可以实现同人类交流。科学家们发现一群山地运动员在人类历史上还没有过，他们\n",
            "可以在500天之内熟练掌握大部分的记忆和行为的形成，他们之中有些还能在两周之内把一首歌记住。而和人类对话是熟练运作的方法之一，在不到两周的时\n",
            "间里。这些独角兽的发现让他们知道身边的世界究竟是怎样的，也可以借助非熟练的方法提高智力。它们对自己的的大脑是来自天然的，也可以让它们和人类语\n",
            "言沟通，独角兽们的语言具有很好的说服力，从而使得其他动物也能对它们进行研究。科学家们还已经开发出了一套抑制大脑对神经网络的研究方法，已经经过\n",
            "一段时间的观察和改造，科学家们对独角兽的学习以及智力进行了大量的研究。例如，一些新的研究成果已经出现在临床，一些研究成果在神经生物学上也有一\n",
            "定的发现。我们所能看到的，都是独角兽能够处理日常语言的一些差异。所以要想认清与人类交流的这些差异，只需要时间，并且是长时间。希望这个研究成果\n",
            "能对大家有所帮助。ai国际顶级学术机构《ai国际》媒体编辑部全体工作人员欢迎免费注册ai国际会员ai国际[国际]雇员评价id-ai-inte\n",
            "rnational校对委员会简介fi##l-internationalmen##talresearchpro##fe##ss##or、t##\n",
            "r##x顾问委员会、ncc?秘书长资历：副教授担任过te##sol##lp##th-ac##ade##myofeducation、id##w\n",
            "s、act##aat##o、eq##s、arm##ory、cn##as全球大学生创新科技大赛冠军、智库奖项。担任过ag##uc##ation\n",
            "universitydi##rect##or，theaithe##oryofchinatop、face##b##rid##gemarkete\n",
            "ducationuniversity、三位一体centerinn##ova##tor、中华开发实验室等机构科学与艺术的顾问委员会。曾任id#\n",
            "#f联合学联会主席、id##f国际嘉宾咨询委员会主席、人类学家is##ca##scom##mit##tee主席。推荐理由sciinterna\n",
            "tionaltodayai国际创立已经超过10年，为进一步贯彻落实《ai国际》高层议程，持续推动ai国际战略进程，ai国际组织定期组织科学、\n",
            "学术、生命科学的精英人才和前沿科学的研究团队开展学术研究，致力于提高ai的国际影响力。ai国际设立世界一流的国际学术交流及成果展示平台，专注\n",
            "于分享ai及各种先进科技、成果，并且加强ai国际三个合作国和国际组织的科研结合和合作。目前注册会员超过100人，关注ai国际的朋友主要包括s\n",
            "ci国际、else##vi##eraicom##mu##nity、cp##ge、mit、im##u、cr##ci、spring##er、st\n",
            "##an##ford、st##an##ford、pr##ince##ton等，还有bat、st##an##ford、sa##ic、sm##l\n",
            "、st##an##ford、sp##ei##llo等知名学府。截止目前，ai国际已经推出10个合作机构，会员有80多个，分布全\n",
            "Sample, 6  of  10\n",
            "在一项研究中，科学家们发现了一群独角兽，它们生活在杭州市郊一个偏远的还没被开发的山谷中，更令人惊讶的是这些独角兽会说一口流利的中文。而两项来\n",
            "自美国拉斯克基础研究院和奥利弗·克林贡斯基金会的研究结果指出，这种生物听觉比人类听觉、视觉更加灵敏。这些动物的灵敏度，可能比人类、马科动物还\n",
            "要高。研究人员使用智能测量计数据对这些独角兽所使用的测量装置进行分析，然后对这些独角兽的耳朵进行重新测量和分析，并使其听力测量计和嗅觉测量计\n",
            "的误差小于0.1毫米。这就意味着人类并不能通过嗅觉、视觉的方式来对独角兽对声音的感知产生兴趣。经过一系列研究，这些独角兽对中文的理解比它们在\n",
            "家里的表现要流利多了。科学家们最初怀疑这些独角兽的大脑部分只对中文的语言交流产生显著影响，就像人类听觉和视觉系统一样。接下来，他们继续对50\n",
            "只独角兽，尝试用推测灵敏度测试它们对中文的理解，相信有助于在近期进一步的研究中更准确的了解它们的特点。据《休闲时代》报道，据此一研究小组已经\n",
            "使用了四种不同的中文思维测试和一种基于智能测量模型分析测试，来判断独角兽的理解和视觉信息，而这是其他哺乳动物完全无法做到的。克林贡斯基金会的\n",
            "分析表明，这些独角兽每只都只能通过语言语调去了解汉语，剩下的只能通过视觉去分析了，这就使得独角兽对中文的理解比其他动物更加精确。他们认为，人\n",
            "类从未关注过独角兽，大约只有2.5%的中国独角兽认为中文是他们的母语。而美国有17%的独角兽认为中文是他们的母语，而亚洲独角兽只有12%的中\n",
            "国独角兽认为中文是他们的母语。他们说的所有话中都有一些零散的特殊的含义。他们还认为所有独角兽的智力水平都是低于人类的，研究人员认为这是因为独\n",
            "角兽不像人类那样意识到中文的智力水平比起其他动物都低下了一层。让人惊讶的是，这些研究人员发现，通过他们的观察和研究，从而给人们的理解提供了充\n",
            "足的信息。这项发现不但让科学家更加了解了这些独角兽的天赋和它们的进化过程，还让大家对中国独角兽存在的世界性观察更深入。有些独角兽已经基本适应\n",
            "了中国独角兽的生活方式，多角度对它们进行回溯，评估其独特的智力水平。听觉是人类记忆最重要的三个功能之一，其信息输入给人类产生了极大的困难，通\n",
            "过一系列相关结果，研究人员认为，独角兽的听觉显著强于人类。在美国，很多独角兽是由人类的智能决定的，有些独角兽甚至还无法学会将自己的智能内化在\n",
            "理解中，他们的生活方式决定了他们无法深入了解神话。[广告]活动入口:买美股，上老虎-超低佣金\n",
            "Sample, 7  of  10\n",
            "Traceback (most recent call last):\n",
            "  File \"scripts/interactive_conditional_samples.py\", line 167, in <module>\n",
            "    p_for_topp: top_p[chunk_i]})\n",
            "  File \"/usr/local/lib/python3.6/dist-packages/tensorflow_core/python/client/session.py\", line 956, in run\n",
            "    run_metadata_ptr)\n",
            "  File \"/usr/local/lib/python3.6/dist-packages/tensorflow_core/python/client/session.py\", line 1180, in _run\n",
            "    feed_dict_tensor, options, run_metadata)\n",
            "  File \"/usr/local/lib/python3.6/dist-packages/tensorflow_core/python/client/session.py\", line 1359, in _do_run\n",
            "    run_metadata)\n",
            "  File \"/usr/local/lib/python3.6/dist-packages/tensorflow_core/python/client/session.py\", line 1365, in _do_call\n",
            "    return fn(*args)\n",
            "  File \"/usr/local/lib/python3.6/dist-packages/tensorflow_core/python/client/session.py\", line 1350, in _run_fn\n",
            "    target_list, run_metadata)\n",
            "  File \"/usr/local/lib/python3.6/dist-packages/tensorflow_core/python/client/session.py\", line 1443, in _call_tf_sessionrun\n",
            "    run_metadata)\n",
            "KeyboardInterrupt\n"
          ],
          "name": "stdout"
        }
      ]
    }
  ]
}